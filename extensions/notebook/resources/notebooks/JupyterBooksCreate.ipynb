{
    "metadata": {
        "kernelspec": {
            "name": "python3",
            "display_name": "Python 3"
        },
        "language_info": {
            "name": "python",
            "version": "3.7.2",
            "mimetype": "text/x-python",
            "codemirror_mode": {
                "name": "ipython",
                "version": 3
            },
            "pygments_lexer": "ipython3",
            "nbconvert_exporter": "python",
            "file_extension": ".py"
        }
    },
    "nbformat_minor": 2,
    "nbformat": 4,
    "cells": [
        {
            "cell_type": "markdown",
            "source": [
                "# Jupyter Books\n",
                "\n",
                "## 1. Installation\n",
                "\n",
                "To install the Jupyter Book command-line interface (CLI), use `pip`!"
            ],
            "metadata": {
                "azdata_cell_guid": "97541c75-b1c9-4e4c-9f0a-f93df4a550ef"
            }
        },
        {
            "cell_type": "code",
            "source": [
                "import sys\r\n",
                "\r\n",
                "#install jupyter-book\r\n",
                "cmd = f'{sys.executable} -m pip show jupyter-book'\r\n",
                "cmdOutput = !{cmd}\r\n",
                "if len(cmdOutput) > 0 and '0.6.4' in cmdOutput[1]:\r\n",
                "    print('Jupyter-book required version is already installed!')\r\n",
                "else:\r\n",
                "    !pip install jupyter-book"
            ],
            "metadata": {
                "azdata_cell_guid": "8bd77173-2f63-4bf8-95e8-af2a654fc91e",
                "tags": []
            },
            "outputs": [],
            "execution_count": null
        },
        {
            "cell_type": "markdown",
            "source": [
                "## 2. Create a new book\r\n",
                "\r\n",
                "Create a book using your own notebooks and markdown pages:\r\n",
                "\r\n",
                "<span style=\"color:red\">Note:</span> Notebook and markdown filenames cannot contain spaces"
            ],
            "metadata": {
                "azdata_cell_guid": "6a1b6bb8-9cb8-43d5-878f-2029d1eacb0e"
            }
        },
        {
            "cell_type": "code",
            "source": [
                "import os\r\n",
                "\r\n",
                "overwrite = False\r\n",
                "book_name = input('Please provide a book name: ') \r\n",
                "\r\n",
                "if (os.path.exists(book_name)):\r\n",
                "    new_book_name = input('A folder named ' + book_name + ' already exists. Enter a new name or the same name to overwrite the existing folder.\\n')\r\n",
                "    if book_name == new_book_name:\r\n",
                "        overwrite = True\r\n",
                "    book_name = new_book_name\r\n",
                "\r\n",
                "content_folder = input('Please provide the path to your folder containing notebooks and markdown files: ')\r\n",
                "\r\n",
                "while (not os.path.exists(content_folder)):\r\n",
                "    content_folder = input('Cannot find folder ' + content_folder + '. Please provide another path: ')\r\n",
                " \r\n",
                "if overwrite:\r\n",
                "    !jupyter-book create \"$book_name\" --content-folder \"$content_folder\" --overwrite\r\n",
                "else:\r\n",
                "    !jupyter-book create \"$book_name\" --content-folder \"$content_folder\"\r\n",
                ""
            ],
            "metadata": {
                "azdata_cell_guid": "d1a363f0-d854-4466-be87-d01d4c7e51ef",
                "tags": []
            },
            "outputs": [],
            "execution_count": null
        },
        {
            "cell_type": "markdown",
            "source": [
                "### <span style=\"color:red\">Issue:</span> generate_toc.py is missing\r\n",
                "\r\n",
                "Jupyter Book uses the Table of Contents to define the structure of your book. For example, your chapters, sub-chapters, etc.\r\n",
                "\r\n",
                "Need to manually modify the Table of Contents (located here: mybookname/_data/toc.yml) following structure below:\r\n",
                "\r\n",
                "```\r\n",
                "- title: mytitle   # Title of chapter or section\r\n",
                "  url: /myurl  # URL of section relative to the /content/ folder.\r\n",
                "  sections:  # Contains a list of more entries that make up the chapter's sections\r\n",
                "  not_numbered: true  # if the section shouldn't have a number in the sidebar\r\n",
                "      (e.g. Introduction or appendices)\r\n",
                "  expand_sections: true  # if you'd like the sections of this chapter to always\r\n",
                "      be expanded in the sidebar.\r\n",
                "  external: true  # Whether the URL is an external link or points to content in the book\r\n",
                "```\r\n",
                "\r\n",
                "Example from demo book:\r\n",
                "\r\n",
                "```\r\n",
                "- title: Getting started\r\n",
                "  url: /guide/01_overview\r\n",
                "  not_numbered: true\r\n",
                "  expand_sections: true\r\n",
                "  sections:\r\n",
                "  - title: Create your book\r\n",
                "    url: /guide/02_create\r\n",
                "  - title: Build and publish your book\r\n",
                "    url: /guide/03_build\r\n",
                "  - title: FAQ\r\n",
                "    url: /guide/04_faq\r\n",
                "  - title: How-to and advanced topics\r\n",
                "    url: /guide/05_advanced\r\n",
                "```"
            ],
            "metadata": {
                "azdata_cell_guid": "5439d5e9-6a98-4255-8afa-3c2ba48bfc7e"
            }
        },
        {
            "cell_type": "markdown",
            "source": [
                "## 3. Build\r\n",
                "**Note**: Please update the toc.yml file with correct info (refer above to update relative paths and titles) before running the build command. Once you update the toc.yml, update _config file with appropriate info as well. <span style=\"color:red\">If you fail to do this, **build will fail**.</span>\r\n",
                "\r\n",
                "Build command to run:"
            ],
            "metadata": {
                "azdata_cell_guid": "16b5d557-c569-4dae-b351-8ae3273c41d7"
            }
        },
        {
            "cell_type": "code",
            "source": [
                "!jupyter-book build \"$book_name\""
            ],
            "metadata": {
                "azdata_cell_guid": "a4ac93c5-8548-4e57-92d3-6d789bbdac1e",
                "tags": []
            },
            "outputs": [],
            "execution_count": null
        },
        {
            "cell_type": "markdown",
            "source": [
                "\r\n",
                "**Run the below cell and click on the link to view your book in Azure Data Studio.**"
            ],
            "metadata": {
                "azdata_cell_guid": "ab100e5c-13f4-484a-9a4a-49bb13cad027"
            }
        },
        {
            "cell_type": "code",
            "source": [
                "import re\r\n",
                "from IPython.display import *\r\n",
                "display(HTML(\"<h2><b><a href=\\\"command:notebook.command.openCreatedBook?&quot;\"+str(re.escape(book_name))+\"&quot;\\\">Click here to open your Book in ADS</a></b></h2>\"))"
            ],
            "metadata": {
                "azdata_cell_guid": "33d8e1cb-1eec-41ed-a368-1aeef9af62d4",
                "tags": []
            },
            "outputs": [],
            "execution_count": null
        },
        {
            "cell_type": "markdown",
            "source": [
                "## That's it!\n",
                "You can now either push your book to GitHub and view with Github Pages or open it in Azure Data Studio.\n",
                ""
            ],
            "metadata": {
                "azdata_cell_guid": "4effe7d4-b684-4b76-b2a7-cb54f71681d2"
            }
        }
    ]
}